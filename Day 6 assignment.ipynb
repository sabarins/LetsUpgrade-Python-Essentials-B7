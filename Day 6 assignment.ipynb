{
 "cells": [
  {
   "cell_type": "markdown",
   "metadata": {},
   "source": [
    "# Question 1\n",
    "For this challenge,create a bank account class that has two attributes\n",
    "*ownerName\n",
    "*Balance\n",
    "And two methods\n",
    "*deposit\n",
    "*withdraw\n",
    "As an added requirement,withdrawals may not exceed the available balance.\n",
    "Instantiate your class,make several deposits and withdrawals,and test to make sure the account\n",
    "cant be overdrawn."
   ]
  },
  {
   "cell_type": "code",
   "execution_count": 23,
   "metadata": {},
   "outputs": [
    {
     "name": "stdout",
     "output_type": "stream",
     "text": [
      "Deposited: 100\n",
      "\n",
      " Withdraw: 50\n",
      "\n",
      " Available Balance= 150\n"
     ]
    }
   ],
   "source": [
    "class Bank(): \n",
    "    def __init__(self):\n",
    "            #self.ownername='abc'\n",
    "            self.balance=100 \n",
    "\n",
    "    def deposit(self): \n",
    "        amount=100\n",
    "        self.balance += amount \n",
    "        print('Deposited:',amount) \n",
    "  \n",
    "    def withdraw(self): \n",
    "        amount = 50 \n",
    "        if self.balance>=amount: \n",
    "            self.balance-=amount \n",
    "            print(\"\\n Withdraw:\", amount) \n",
    "         \n",
    "    def display(self): \n",
    "        print(\"\\n Available Balance=\",self.balance) \n",
    "  \n",
    " \n",
    "   \n",
    "\n",
    "s = Bank() \n",
    "   \n",
    "s.deposit() \n",
    "s.withdraw() \n",
    "s.display() \n",
    "  \n",
    "    \n",
    "    "
   ]
  },
  {
   "cell_type": "markdown",
   "metadata": {},
   "source": [
    "# Question 2  \n",
    " For this challenge,create a cone class that has two attributes: \n",
    " \n",
    "*R=Radius \n",
    " \n",
    "*h=Height \n",
    " \n",
    " \n",
    " \n",
    "And two methods: \n",
    " \n",
    "*Volume = Π*r2=(h/3) \n",
    " \n",
    "*Surface area : base : 2 , side Π Π*r : *r*√(r2 2) +h \n",
    " \n",
    "Make only one class with functions,as in where required import Math. \n",
    " \n",
    " \n"
   ]
  },
  {
   "cell_type": "code",
   "execution_count": 2,
   "metadata": {},
   "outputs": [
    {
     "name": "stdout",
     "output_type": "stream",
     "text": [
      "Volume Of Cone :  314.15926535897927\n",
      "Surface Area Of Cone :  282.7433388230814\n"
     ]
    }
   ],
   "source": [
    "import math \n",
    "pi = math.pi \n",
    " \n",
    "def volume(r, h): \n",
    "    return (1 / 3) * pi * r * r * h \n",
    "  \n",
    "def surfacearea(r, s): \n",
    "    return pi * r * s + pi * r * r \n",
    "   \n",
    "radius = float(5) \n",
    "height = float(12) \n",
    "slat_height = float(13) \n",
    "print( \"Volume Of Cone : \", volume(radius, height) ) \n",
    "print( \"Surface Area Of Cone : \", surfacearea(radius, slat_height) ) \n",
    "  "
   ]
  },
  {
   "cell_type": "code",
   "execution_count": null,
   "metadata": {},
   "outputs": [],
   "source": []
  },
  {
   "cell_type": "code",
   "execution_count": null,
   "metadata": {},
   "outputs": [],
   "source": [
    "\n"
   ]
  }
 ],
 "metadata": {
  "kernelspec": {
   "display_name": "Python 3",
   "language": "python",
   "name": "python3"
  },
  "language_info": {
   "codemirror_mode": {
    "name": "ipython",
    "version": 3
   },
   "file_extension": ".py",
   "mimetype": "text/x-python",
   "name": "python",
   "nbconvert_exporter": "python",
   "pygments_lexer": "ipython3",
   "version": "3.8.3"
  }
 },
 "nbformat": 4,
 "nbformat_minor": 4
}
