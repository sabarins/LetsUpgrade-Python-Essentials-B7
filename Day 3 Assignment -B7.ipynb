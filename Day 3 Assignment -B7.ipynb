{
 "cells": [
  {
   "cell_type": "markdown",
   "metadata": {},
   "source": [
    "# Question 1\n",
    "\n",
    "You all are Pilots, you want to land a plane safely, so altitude required for landing a plane is\n",
    "1000ft, it it is less than tell pilot to land the plane, or it is more than that but less than 5000ft ask\n",
    "the pilot to “come down to 1000ft”, else if it more than 5000ft ask the pilot to “go around and try\n",
    "later”\n"
   ]
  },
  {
   "cell_type": "code",
   "execution_count": 2,
   "metadata": {},
   "outputs": [
    {
     "name": "stdout",
     "output_type": "stream",
     "text": [
      "Enter the ft :1000\n",
      "Safe to Land\n"
     ]
    }
   ],
   "source": [
    "a=int(input('Enter the ft :'))\n",
    "\n",
    "if a > 5000:\n",
    "    print('Turn Around')\n",
    "    \n",
    "elif a > 1000 and a < 5000:\n",
    "        print('Bring Down to 1000') \n",
    "\n",
    "else :\n",
    "    \n",
    "    print('Safe to Land')\n"
   ]
  },
  {
   "cell_type": "markdown",
   "metadata": {},
   "source": [
    "# Question 2\n",
    "\n",
    "Using for loop please print all the prime numbers between 1- 200 using FOR LOOP AND RANGE\n",
    "function.\n"
   ]
  },
  {
   "cell_type": "code",
   "execution_count": 5,
   "metadata": {},
   "outputs": [
    {
     "name": "stdout",
     "output_type": "stream",
     "text": [
      "2\n",
      "3\n",
      "5\n",
      "7\n",
      "11\n",
      "13\n",
      "17\n",
      "19\n",
      "23\n",
      "29\n",
      "31\n",
      "37\n",
      "41\n",
      "43\n",
      "47\n",
      "53\n",
      "59\n",
      "61\n",
      "67\n",
      "71\n",
      "73\n",
      "79\n",
      "83\n",
      "89\n",
      "97\n",
      "101\n",
      "103\n",
      "107\n",
      "109\n",
      "113\n",
      "127\n",
      "131\n",
      "137\n",
      "139\n",
      "149\n",
      "151\n",
      "157\n",
      "163\n",
      "167\n",
      "173\n",
      "179\n",
      "181\n",
      "191\n",
      "193\n",
      "197\n",
      "199\n"
     ]
    }
   ],
   "source": [
    "for num in range(1,200):\n",
    "    if num > 1:\n",
    "        for i in range(2,num):\n",
    "            if (num%i==0):\n",
    "                break\n",
    "        else:\n",
    "             print(num)"
   ]
  },
  {
   "cell_type": "code",
   "execution_count": null,
   "metadata": {},
   "outputs": [],
   "source": []
  }
 ],
 "metadata": {
  "kernelspec": {
   "display_name": "Python 3",
   "language": "python",
   "name": "python3"
  },
  "language_info": {
   "codemirror_mode": {
    "name": "ipython",
    "version": 3
   },
   "file_extension": ".py",
   "mimetype": "text/x-python",
   "name": "python",
   "nbconvert_exporter": "python",
   "pygments_lexer": "ipython3",
   "version": "3.8.3"
  }
 },
 "nbformat": 4,
 "nbformat_minor": 4
}
